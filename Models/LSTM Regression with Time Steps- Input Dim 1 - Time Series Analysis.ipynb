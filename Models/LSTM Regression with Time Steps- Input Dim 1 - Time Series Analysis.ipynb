{
 "cells": [
  {
   "cell_type": "code",
   "execution_count": 1,
   "metadata": {
    "collapsed": false
   },
   "outputs": [
    {
     "name": "stderr",
     "output_type": "stream",
     "text": [
      "Using Theano backend.\n",
      "WARNING (theano.configdefaults): g++ not detected ! Theano will be unable to execute optimized C-implementations (for both CPU and GPU) and will default to Python implementations. Performance will be severely degraded. To remove this warning, set Theano flags cxx to an empty string.\n"
     ]
    },
    {
     "data": {
      "text/plain": [
       "u'0.18.1'"
      ]
     },
     "execution_count": 1,
     "metadata": {},
     "output_type": "execute_result"
    }
   ],
   "source": [
    "\n",
    "import numpy \n",
    "import matplotlib.pyplot as plt\n",
    "import pandas\n",
    "import math\n",
    "from keras.models import Sequential\n",
    "from keras.layers import Dense\n",
    "from keras.layers import LSTM\n",
    "from sklearn.preprocessing import MinMaxScaler\n",
    "from sklearn.metrics import mean_squared_error\n",
    "%matplotlib inline\n",
    "pandas.__version__"
   ]
  },
  {
   "cell_type": "code",
   "execution_count": 2,
   "metadata": {
    "collapsed": true
   },
   "outputs": [],
   "source": [
    "numpy.random.seed(7)"
   ]
  },
  {
   "cell_type": "code",
   "execution_count": 3,
   "metadata": {
    "collapsed": false
   },
   "outputs": [
    {
     "name": "stdout",
     "output_type": "stream",
     "text": [
      "   International airline passengers: monthly totals in thousands. Jan 49 ? Dec 60\n",
      "0                                                112                             \n",
      "1                                                118                             \n",
      "2                                                132                             \n",
      "3                                                129                             \n",
      "4                                                121                             \n"
     ]
    },
    {
     "data": {
      "image/png": "[encoded data removed]",
      "text/plain": [
       "<matplotlib.figure.Figure at 0x2d5e438>"
      ]
     },
     "metadata": {},
     "output_type": "display_data"
    }
   ],
   "source": [
    "# load the dataset\n",
    "dataframe = pandas.read_csv('international-airline-passengers.csv', usecols=[1], engine='python', skipfooter=3)\n",
    "print dataframe.head()\n",
    "dataset = dataframe.values\n",
    "dataset = dataset.astype('float32')\n",
    "plt.plot(dataset)\n",
    "plt.title(\"International Passengers Trend\")\n",
    "plt.show()"
   ]
  },
  {
   "cell_type": "code",
   "execution_count": 4,
   "metadata": {
    "collapsed": false
   },
   "outputs": [
    {
     "name": "stdout",
     "output_type": "stream",
     "text": [
      "Length of Training data is 96 and Test data is 48\n"
     ]
    }
   ],
   "source": [
    "\n",
    "# normalize the dataset\n",
    "scaler = MinMaxScaler(feature_range=(0, 1))\n",
    "dataset = scaler.fit_transform(dataset)\n",
    "\n",
    "\n",
    "# split into train and test sets\n",
    "train_size = int(len(dataset) * 0.67)\n",
    "test_size = len(dataset) - train_size\n",
    "train, test = dataset[0:train_size,:], dataset[train_size:len(dataset),:]\n",
    "print\"Length of Training data is %d and Test data is %d\" %(len(train), len(test))\n"
   ]
  },
  {
   "cell_type": "code",
   "execution_count": 5,
   "metadata": {
    "collapsed": true
   },
   "outputs": [],
   "source": [
    "'''\n",
    "Create the dataset by making x(t) as X and x(t+1) as Y\n",
    "\n",
    "'''\n",
    "def create_dataset(data_set,look_back):\n",
    "    X=[]\n",
    "    Y=[]\n",
    "    for i in range(len(data_set)-look_back-1):\n",
    "        curr = numpy.ravel(data_set[i:(i+look_back)])\n",
    "        X.append(curr)\n",
    "        nxt = data_set[i+look_back]\n",
    "        \n",
    "        Y.append(nxt)\n",
    "    #print numpy.hstack((numpy.asanyarray(X),numpy.asanyarray(Y)))\n",
    "    return numpy.array(X),numpy.array(Y)\n",
    "    "
   ]
  },
  {
   "cell_type": "code",
   "execution_count": 6,
   "metadata": {
    "collapsed": false
   },
   "outputs": [],
   "source": [
    "tr_X,tr_Y=create_dataset(train,look_back=2)"
   ]
  },
  {
   "cell_type": "code",
   "execution_count": 7,
   "metadata": {
    "collapsed": false
   },
   "outputs": [],
   "source": [
    "tst_X,tst_Y=create_dataset(test,look_back=2)"
   ]
  },
  {
   "cell_type": "code",
   "execution_count": 9,
   "metadata": {
    "collapsed": false
   },
   "outputs": [
    {
     "name": "stdout",
     "output_type": "stream",
     "text": [
      "(93L, 2L, 1L)\n",
      "(45L, 2L, 1L)\n"
     ]
    }
   ],
   "source": [
    "trainX = numpy.reshape(tr_X, (tr_X.shape[0], tr_X.shape[1], 1))\n",
    "print numpy.shape(trainX)\n",
    "testX = numpy.reshape(tst_X, (tst_X.shape[0], tst_X.shape[1], 1))\n",
    "print numpy.shape(testX)"
   ]
  },
  {
   "cell_type": "code",
   "execution_count": 12,
   "metadata": {
    "collapsed": false
   },
   "outputs": [
    {
     "name": "stdout",
     "output_type": "stream",
     "text": [
      "Epoch 1/100\n",
      "93/93 [==============================] - 12s - loss: 0.0569    \n",
      "Epoch 2/100\n",
      "93/93 [==============================] - 12s - loss: 0.0180    \n",
      "Epoch 3/100\n",
      "93/93 [==============================] - 14s - loss: 0.0134    \n",
      "Epoch 4/100\n",
      "93/93 [==============================] - 12s - loss: 0.0100    \n",
      "Epoch 5/100\n",
      "93/93 [==============================] - 11s - loss: 0.0075    \n",
      "Epoch 6/100\n",
      "93/93 [==============================] - 10s - loss: 0.0057    \n",
      "Epoch 7/100\n",
      "93/93 [==============================] - 11s - loss: 0.0046    \n",
      "Epoch 8/100\n",
      "93/93 [==============================] - 11s - loss: 0.0041    \n",
      "Epoch 9/100\n",
      "93/93 [==============================] - 9s - loss: 0.0039     \n",
      "Epoch 10/100\n",
      "93/93 [==============================] - 11s - loss: 0.0037    \n",
      "Epoch 11/100\n",
      "93/93 [==============================] - 11s - loss: 0.0038    \n",
      "Epoch 12/100\n",
      "93/93 [==============================] - 11s - loss: 0.0040    \n",
      "Epoch 13/100\n",
      "93/93 [==============================] - 11s - loss: 0.0037    \n",
      "Epoch 14/100\n",
      "93/93 [==============================] - 12s - loss: 0.0037    \n",
      "Epoch 15/100\n",
      "93/93 [==============================] - 10s - loss: 0.0035    \n",
      "Epoch 16/100\n",
      "93/93 [==============================] - 10s - loss: 0.0035    \n",
      "Epoch 17/100\n",
      "93/93 [==============================] - 10s - loss: 0.0035    \n",
      "Epoch 18/100\n",
      "93/93 [==============================] - 10s - loss: 0.0037    \n",
      "Epoch 19/100\n",
      "93/93 [==============================] - 10s - loss: 0.0034    \n",
      "Epoch 20/100\n",
      "93/93 [==============================] - 10s - loss: 0.0035    \n",
      "Epoch 21/100\n",
      "93/93 [==============================] - 10s - loss: 0.0034    \n",
      "Epoch 22/100\n",
      "93/93 [==============================] - 10s - loss: 0.0034    \n",
      "Epoch 23/100\n",
      "93/93 [==============================] - 10s - loss: 0.0035    \n",
      "Epoch 24/100\n",
      "93/93 [==============================] - 10s - loss: 0.0035    \n",
      "Epoch 25/100\n",
      "93/93 [==============================] - 10s - loss: 0.0033    \n",
      "Epoch 26/100\n",
      "93/93 [==============================] - 10s - loss: 0.0033    \n",
      "Epoch 27/100\n",
      "93/93 [==============================] - 10s - loss: 0.0033    \n",
      "Epoch 28/100\n",
      "93/93 [==============================] - 11s - loss: 0.0034    \n",
      "Epoch 29/100\n",
      "93/93 [==============================] - 12s - loss: 0.0033    \n",
      "Epoch 30/100\n",
      "93/93 [==============================] - 12s - loss: 0.0034    \n",
      "Epoch 31/100\n",
      "93/93 [==============================] - 10s - loss: 0.0033    \n",
      "Epoch 32/100\n",
      "93/93 [==============================] - 10s - loss: 0.0032    \n",
      "Epoch 33/100\n",
      "93/93 [==============================] - 10s - loss: 0.0032    \n",
      "Epoch 34/100\n",
      "93/93 [==============================] - 12s - loss: 0.0031    \n",
      "Epoch 35/100\n",
      "93/93 [==============================] - 10s - loss: 0.0032    \n",
      "Epoch 36/100\n",
      "93/93 [==============================] - 11s - loss: 0.0032    \n",
      "Epoch 37/100\n",
      "93/93 [==============================] - 10s - loss: 0.0031    \n",
      "Epoch 38/100\n",
      "93/93 [==============================] - 10s - loss: 0.0029    \n",
      "Epoch 39/100\n",
      "93/93 [==============================] - 10s - loss: 0.0031    \n",
      "Epoch 40/100\n",
      "93/93 [==============================] - 10s - loss: 0.0029    \n",
      "Epoch 41/100\n",
      "93/93 [==============================] - 10s - loss: 0.0029    \n",
      "Epoch 42/100\n",
      "93/93 [==============================] - 10s - loss: 0.0029    \n",
      "Epoch 43/100\n",
      "93/93 [==============================] - 11s - loss: 0.0030    \n",
      "Epoch 44/100\n",
      "93/93 [==============================] - 14s - loss: 0.0028    \n",
      "Epoch 45/100\n",
      "93/93 [==============================] - 14s - loss: 0.0029    \n",
      "Epoch 46/100\n",
      "93/93 [==============================] - 15s - loss: 0.0033    \n",
      "Epoch 47/100\n",
      "93/93 [==============================] - 15s - loss: 0.0028    \n",
      "Epoch 48/100\n",
      "93/93 [==============================] - 14s - loss: 0.0029    \n",
      "Epoch 49/100\n",
      "93/93 [==============================] - 16s - loss: 0.0028    \n",
      "Epoch 50/100\n",
      "93/93 [==============================] - 14s - loss: 0.0027    \n",
      "Epoch 51/100\n",
      "93/93 [==============================] - 13s - loss: 0.0028    \n",
      "Epoch 52/100\n",
      "93/93 [==============================] - 14s - loss: 0.0027    \n",
      "Epoch 53/100\n",
      "93/93 [==============================] - 13s - loss: 0.0027    \n",
      "Epoch 54/100\n",
      "93/93 [==============================] - 13s - loss: 0.0026    \n",
      "Epoch 55/100\n",
      "93/93 [==============================] - 13s - loss: 0.0025    \n",
      "Epoch 56/100\n",
      "93/93 [==============================] - 15s - loss: 0.0026    \n",
      "Epoch 57/100\n",
      "93/93 [==============================] - 17s - loss: 0.0025    \n",
      "Epoch 58/100\n",
      "93/93 [==============================] - 14s - loss: 0.0025    \n",
      "Epoch 59/100\n",
      "93/93 [==============================] - 14s - loss: 0.0025    \n",
      "Epoch 60/100\n",
      "93/93 [==============================] - 13s - loss: 0.0025    \n",
      "Epoch 61/100\n",
      "93/93 [==============================] - 10s - loss: 0.0025    \n",
      "Epoch 62/100\n",
      "93/93 [==============================] - 10s - loss: 0.0025    \n",
      "Epoch 63/100\n",
      "93/93 [==============================] - 10s - loss: 0.0023    \n",
      "Epoch 64/100\n",
      "93/93 [==============================] - 10s - loss: 0.0023    \n",
      "Epoch 65/100\n",
      "93/93 [==============================] - 12s - loss: 0.0023    \n",
      "Epoch 66/100\n",
      "93/93 [==============================] - 10s - loss: 0.0022    \n",
      "Epoch 67/100\n",
      "93/93 [==============================] - 10s - loss: 0.0022    \n",
      "Epoch 68/100\n",
      "93/93 [==============================] - 10s - loss: 0.0022    \n",
      "Epoch 69/100\n",
      "93/93 [==============================] - 10s - loss: 0.0022    \n",
      "Epoch 70/100\n",
      "93/93 [==============================] - 10s - loss: 0.0022    \n",
      "Epoch 71/100\n",
      "93/93 [==============================] - 10s - loss: 0.0020    \n",
      "Epoch 72/100\n",
      "93/93 [==============================] - 11s - loss: 0.0022    \n",
      "Epoch 73/100\n",
      "93/93 [==============================] - 10s - loss: 0.0020    \n",
      "Epoch 74/100\n",
      "93/93 [==============================] - 11s - loss: 0.0020    \n",
      "Epoch 75/100\n",
      "93/93 [==============================] - 10s - loss: 0.0019    \n",
      "Epoch 76/100\n",
      "93/93 [==============================] - 11s - loss: 0.0019    \n",
      "Epoch 77/100\n",
      "93/93 [==============================] - 10s - loss: 0.0020    \n",
      "Epoch 78/100\n",
      "93/93 [==============================] - 12s - loss: 0.0019    \n",
      "Epoch 79/100\n",
      "93/93 [==============================] - 10s - loss: 0.0019    \n",
      "Epoch 80/100\n",
      "93/93 [==============================] - 10s - loss: 0.0018    \n",
      "Epoch 81/100\n",
      "93/93 [==============================] - 11s - loss: 0.0020    \n",
      "Epoch 82/100\n",
      "93/93 [==============================] - 10s - loss: 0.0018    \n",
      "Epoch 83/100\n",
      "93/93 [==============================] - 9s - loss: 0.0018     \n",
      "Epoch 84/100\n",
      "93/93 [==============================] - 9s - loss: 0.0018     \n",
      "Epoch 85/100\n",
      "93/93 [==============================] - 9s - loss: 0.0019     \n",
      "Epoch 86/100\n",
      "93/93 [==============================] - 9s - loss: 0.0017     \n",
      "Epoch 87/100\n",
      "93/93 [==============================] - 9s - loss: 0.0021     \n",
      "Epoch 88/100\n",
      "93/93 [==============================] - 9s - loss: 0.0019     \n",
      "Epoch 89/100\n",
      "93/93 [==============================] - 9s - loss: 0.0018     \n",
      "Epoch 90/100\n",
      "93/93 [==============================] - 9s - loss: 0.0018     \n",
      "Epoch 91/100\n",
      "93/93 [==============================] - 9s - loss: 0.0018     \n",
      "Epoch 92/100\n",
      "93/93 [==============================] - 9s - loss: 0.0018     \n",
      "Epoch 93/100\n",
      "93/93 [==============================] - 9s - loss: 0.0019     \n",
      "Epoch 94/100\n",
      "93/93 [==============================] - 9s - loss: 0.0018     \n",
      "Epoch 95/100\n",
      "93/93 [==============================] - 9s - loss: 0.0017     \n",
      "Epoch 96/100\n",
      "93/93 [==============================] - 9s - loss: 0.0017     \n",
      "Epoch 97/100\n",
      "93/93 [==============================] - 9s - loss: 0.0017     \n",
      "Epoch 98/100\n",
      "93/93 [==============================] - 9s - loss: 0.0018     \n",
      "Epoch 99/100\n",
      "93/93 [==============================] - 9s - loss: 0.0018     \n",
      "Epoch 100/100\n",
      "93/93 [==============================] - 9s - loss: 0.0018     \n"
     ]
    },
    {
     "data": {
      "text/plain": [
       "<keras.callbacks.History at 0x1510bd30>"
      ]
     },
     "execution_count": 12,
     "metadata": {},
     "output_type": "execute_result"
    }
   ],
   "source": [
    "\n",
    "# create and fit the LSTM network\n",
    "look_back=2\n",
    "model = Sequential()\n",
    "model.add(LSTM(16, input_dim=1))\n",
    "model.add(Dense(1))\n",
    "model.compile(loss='mean_squared_error', optimizer='adam')\n",
    "model.fit(trainX, tr_Y, nb_epoch=100, batch_size=1, verbose=1)"
   ]
  },
  {
   "cell_type": "code",
   "execution_count": 324,
   "metadata": {
    "collapsed": false
   },
   "outputs": [],
   "source": [
    "#import theano; print(theano.config)"
   ]
  },
  {
   "cell_type": "code",
   "execution_count": 325,
   "metadata": {
    "collapsed": true
   },
   "outputs": [],
   "source": [
    "THEANO_FLAGS='floatX=float32,device=gpu0,lib.cnmem=1'"
   ]
  },
  {
   "cell_type": "code",
   "execution_count": 13,
   "metadata": {
    "collapsed": false
   },
   "outputs": [
    {
     "name": "stdout",
     "output_type": "stream",
     "text": [
      "Train Score: 21.61 RMSE\n",
      "Test Score: 60.43 RMSE\n"
     ]
    }
   ],
   "source": [
    "\n",
    "# make predictions\n",
    "trainScore=0.0\n",
    "testScore=0.0\n",
    "trainPredict = model.predict(trainX)\n",
    "\n",
    "testPredict = model.predict(testX)\n",
    "# invert predictions\n",
    "trainPredict = scaler.inverse_transform(trainPredict)\n",
    "tr_Y = scaler.inverse_transform(tr_Y)\n",
    "testPredict = scaler.inverse_transform(testPredict)\n",
    "tst_Y = scaler.inverse_transform(tst_Y)\n",
    "# calculate root mean squared error\n",
    "#print len(trainPredict)\n",
    "#print len(trainY)\n",
    "#s= numpy.subtract(trainPredict,tr_Y)**2\n",
    "#print numpy.sum(numpy.sqrt(s))/len(tr_Y)\n",
    "\n",
    "trainScore = math.sqrt(mean_squared_error(tr_Y, trainPredict))\n",
    "print('Train Score: %.2f RMSE' % (trainScore))\n",
    "testScore = math.sqrt(mean_squared_error(tst_Y, testPredict))\n",
    "print('Test Score: %.2f RMSE' % (testScore))"
   ]
  },
  {
   "cell_type": "code",
   "execution_count": 14,
   "metadata": {
    "collapsed": false
   },
   "outputs": [
    {
     "data": {
      "image/png": "[encoded data removed]",
      "text/plain": [
       "<matplotlib.figure.Figure at 0x155a8ba8>"
      ]
     },
     "metadata": {},
     "output_type": "display_data"
    }
   ],
   "source": [
    "# shift train predictions for plotting\n",
    "trainPredictPlot = numpy.empty_like(dataset)\n",
    "trainPredictPlot[:, :] = numpy.nan\n",
    "trainPredictPlot[look_back:len(trainPredict)+look_back, :] = trainPredict\n",
    "# shift test predictions for plotting\n",
    "testPredictPlot = numpy.empty_like(dataset)\n",
    "testPredictPlot[:, :] = numpy.nan\n",
    "testPredictPlot[len(trainPredict)+(look_back*2)+1:len(dataset)-1, :] = testPredict\n",
    "# plot baseline and predictions\n",
    "plt.title(\"Increasing the window size\")\n",
    "plt.plot(scaler.inverse_transform(dataset),label=\"Inverse of data transform\")\n",
    "plt.plot(trainPredictPlot,label=\"Predicted Train\")\n",
    "plt.plot(testPredictPlot,label=\"Predicted Test\")\n",
    "plt.legend(loc=0)\n",
    "plt.show()"
   ]
  },
  {
   "cell_type": "code",
   "execution_count": null,
   "metadata": {
    "collapsed": true
   },
   "outputs": [],
   "source": []
  },
  {
   "cell_type": "code",
   "execution_count": null,
   "metadata": {
    "collapsed": true
   },
   "outputs": [],
   "source": []
  }
 ],
 "metadata": {
  "anaconda-cloud": {},
  "kernelspec": {
   "display_name": "Python [default]",
   "language": "python",
   "name": "python2"
  },
  "language_info": {
   "codemirror_mode": {
    "name": "ipython",
    "version": 2
   },
   "file_extension": ".py",
   "mimetype": "text/x-python",
   "name": "python",
   "nbconvert_exporter": "python",
   "pygments_lexer": "ipython2",
   "version": "2.7.12"
  }
 },
 "nbformat": 4,
 "nbformat_minor": 1
}
