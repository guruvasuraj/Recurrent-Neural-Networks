{
 "cells": [
  {
   "cell_type": "code",
   "execution_count": 7,
   "metadata": {
    "collapsed": false
   },
   "outputs": [
    {
     "data": {
      "text/plain": [
       "u'0.18.1'"
      ]
     },
     "execution_count": 7,
     "metadata": {},
     "output_type": "execute_result"
    }
   ],
   "source": [
    "\n",
    "import numpy \n",
    "import matplotlib.pyplot as plt\n",
    "import pandas\n",
    "import math\n",
    "from keras.models import Sequential\n",
    "from keras.layers import Dense\n",
    "from keras.layers import LSTM\n",
    "from sklearn.preprocessing import MinMaxScaler\n",
    "from sklearn.metrics import mean_squared_error\n",
    "%matplotlib inline\n",
    "pandas.__version__"
   ]
  },
  {
   "cell_type": "code",
   "execution_count": 8,
   "metadata": {
    "collapsed": true
   },
   "outputs": [],
   "source": [
    "numpy.random.seed(7)"
   ]
  },
  {
   "cell_type": "code",
   "execution_count": 9,
   "metadata": {
    "collapsed": false
   },
   "outputs": [
    {
     "name": "stdout",
     "output_type": "stream",
     "text": [
      "   International airline passengers: monthly totals in thousands. Jan 49 ? Dec 60\n",
      "0                                                112                             \n",
      "1                                                118                             \n",
      "2                                                132                             \n",
      "3                                                129                             \n",
      "4                                                121                             \n"
     ]
    },
    {
     "data": {
      "image/png": "[encoded data removed]",
      "text/plain": [
       "<matplotlib.figure.Figure at 0xd69bda0>"
      ]
     },
     "metadata": {},
     "output_type": "display_data"
    }
   ],
   "source": [
    "# load the dataset\n",
    "dataframe = pandas.read_csv('international-airline-passengers.csv', usecols=[1], engine='python', skipfooter=3)\n",
    "print dataframe.head()\n",
    "dataset = dataframe.values\n",
    "dataset = dataset.astype('float32')\n",
    "plt.plot(dataset)\n",
    "plt.title(\"International Passengers Trend\")\n",
    "plt.show()"
   ]
  },
  {
   "cell_type": "code",
   "execution_count": 22,
   "metadata": {
    "collapsed": false
   },
   "outputs": [
    {
     "name": "stdout",
     "output_type": "stream",
     "text": [
      "Length of Training data is 96 and Test data is 48\n"
     ]
    }
   ],
   "source": [
    "\n",
    "# normalize the dataset\n",
    "scaler = MinMaxScaler(feature_range=(0, 1))\n",
    "dataset = scaler.fit_transform(dataset)\n",
    "\n",
    "\n",
    "# split into train and test sets\n",
    "train_size = int(len(dataset) * 0.67)\n",
    "test_size = len(dataset) - train_size\n",
    "train, test = dataset[0:train_size,:], dataset[train_size:len(dataset),:]\n",
    "print\"Length of Training data is %d and Test data is %d\" %(len(train), len(test))\n"
   ]
  },
  {
   "cell_type": "code",
   "execution_count": 23,
   "metadata": {
    "collapsed": true
   },
   "outputs": [],
   "source": [
    "'''\n",
    "Create the dataset by making x(t) as X and x(t+1) as Y\n",
    "\n",
    "'''\n",
    "def create_dataset(data_set,look_back):\n",
    "    X=[]\n",
    "    Y=[]\n",
    "    for i in range(len(data_set)-look_back-1):\n",
    "        curr = numpy.ravel(data_set[i:(i+look_back)])\n",
    "        X.append(curr)\n",
    "        nxt = data_set[i+look_back]\n",
    "        \n",
    "        Y.append(nxt)\n",
    "    #print numpy.hstack((numpy.asanyarray(X),numpy.asanyarray(Y)))\n",
    "    return numpy.array(X),numpy.array(Y)\n",
    "    "
   ]
  },
  {
   "cell_type": "code",
   "execution_count": 24,
   "metadata": {
    "collapsed": false
   },
   "outputs": [],
   "source": [
    "tr_X,tr_Y=create_dataset(train,look_back=2)"
   ]
  },
  {
   "cell_type": "code",
   "execution_count": 25,
   "metadata": {
    "collapsed": false
   },
   "outputs": [],
   "source": [
    "tst_X,tst_Y=create_dataset(test,look_back=2)"
   ]
  },
  {
   "cell_type": "code",
   "execution_count": 26,
   "metadata": {
    "collapsed": false
   },
   "outputs": [
    {
     "name": "stdout",
     "output_type": "stream",
     "text": [
      "(93L, 2L, 1L)\n",
      "(45L, 2L, 1L)\n"
     ]
    }
   ],
   "source": [
    "trainX = numpy.reshape(tr_X, (tr_X.shape[0], tr_X.shape[1], 1))\n",
    "print numpy.shape(trainX)\n",
    "testX = numpy.reshape(tst_X, (tst_X.shape[0], tst_X.shape[1], 1))\n",
    "print numpy.shape(testX)"
   ]
  },
  {
   "cell_type": "code",
   "execution_count": 15,
   "metadata": {
    "collapsed": false
   },
   "outputs": [
    {
     "name": "stdout",
     "output_type": "stream",
     "text": [
      "Epoch 1/1\n",
      "2s - loss: 0.0072\n",
      "Epoch 1/1\n",
      "2s - loss: 0.0195\n",
      "Epoch 1/1\n",
      "2s - loss: 0.0119\n",
      "Epoch 1/1\n",
      "2s - loss: 0.0069\n",
      "Epoch 1/1\n",
      "2s - loss: 0.0068\n",
      "Epoch 1/1\n",
      "2s - loss: 0.0056\n",
      "Epoch 1/1\n",
      "2s - loss: 0.0055\n",
      "Epoch 1/1\n",
      "2s - loss: 0.0051\n",
      "Epoch 1/1\n",
      "2s - loss: 0.0048\n",
      "Epoch 1/1\n",
      "2s - loss: 0.0046\n",
      "Epoch 1/1\n",
      "2s - loss: 0.0043\n",
      "Epoch 1/1\n",
      "2s - loss: 0.0041\n",
      "Epoch 1/1\n",
      "2s - loss: 0.0040\n",
      "Epoch 1/1\n",
      "2s - loss: 0.0038\n",
      "Epoch 1/1\n",
      "3s - loss: 0.0037\n",
      "Epoch 1/1\n",
      "2s - loss: 0.0036\n",
      "Epoch 1/1\n",
      "2s - loss: 0.0036\n",
      "Epoch 1/1\n",
      "2s - loss: 0.0035\n",
      "Epoch 1/1\n",
      "2s - loss: 0.0034\n",
      "Epoch 1/1\n",
      "2s - loss: 0.0034\n",
      "Epoch 1/1\n",
      "2s - loss: 0.0033\n",
      "Epoch 1/1\n",
      "2s - loss: 0.0033\n",
      "Epoch 1/1\n",
      "1s - loss: 0.0033\n",
      "Epoch 1/1\n",
      "2s - loss: 0.0032\n",
      "Epoch 1/1\n",
      "2s - loss: 0.0032\n",
      "Epoch 1/1\n",
      "2s - loss: 0.0031\n",
      "Epoch 1/1\n",
      "2s - loss: 0.0031\n",
      "Epoch 1/1\n",
      "2s - loss: 0.0031\n",
      "Epoch 1/1\n",
      "2s - loss: 0.0030\n",
      "Epoch 1/1\n",
      "2s - loss: 0.0030\n",
      "Epoch 1/1\n",
      "2s - loss: 0.0030\n",
      "Epoch 1/1\n",
      "4s - loss: 0.0030\n",
      "Epoch 1/1\n",
      "2s - loss: 0.0029\n",
      "Epoch 1/1\n",
      "2s - loss: 0.0029\n",
      "Epoch 1/1\n",
      "1s - loss: 0.0029\n",
      "Epoch 1/1\n",
      "2s - loss: 0.0028\n",
      "Epoch 1/1\n",
      "2s - loss: 0.0028\n",
      "Epoch 1/1\n",
      "2s - loss: 0.0028\n",
      "Epoch 1/1\n",
      "1s - loss: 0.0028\n",
      "Epoch 1/1\n",
      "2s - loss: 0.0027\n",
      "Epoch 1/1\n",
      "2s - loss: 0.0027\n",
      "Epoch 1/1\n",
      "2s - loss: 0.0027\n",
      "Epoch 1/1\n",
      "2s - loss: 0.0027\n",
      "Epoch 1/1\n",
      "2s - loss: 0.0026\n",
      "Epoch 1/1\n",
      "2s - loss: 0.0026\n",
      "Epoch 1/1\n",
      "2s - loss: 0.0026\n",
      "Epoch 1/1\n",
      "2s - loss: 0.0026\n",
      "Epoch 1/1\n",
      "2s - loss: 0.0026\n",
      "Epoch 1/1\n",
      "2s - loss: 0.0025\n",
      "Epoch 1/1\n",
      "2s - loss: 0.0025\n",
      "Epoch 1/1\n",
      "2s - loss: 0.0025\n",
      "Epoch 1/1\n",
      "2s - loss: 0.0025\n",
      "Epoch 1/1\n",
      "2s - loss: 0.0025\n",
      "Epoch 1/1\n",
      "2s - loss: 0.0025\n",
      "Epoch 1/1\n",
      "2s - loss: 0.0024\n",
      "Epoch 1/1\n",
      "2s - loss: 0.0024\n",
      "Epoch 1/1\n",
      "2s - loss: 0.0024\n",
      "Epoch 1/1\n",
      "2s - loss: 0.0024\n",
      "Epoch 1/1\n",
      "2s - loss: 0.0024\n",
      "Epoch 1/1\n",
      "2s - loss: 0.0023\n",
      "Epoch 1/1\n",
      "2s - loss: 0.0023\n",
      "Epoch 1/1\n",
      "2s - loss: 0.0023\n",
      "Epoch 1/1\n",
      "2s - loss: 0.0023\n",
      "Epoch 1/1\n",
      "2s - loss: 0.0023\n",
      "Epoch 1/1\n",
      "2s - loss: 0.0023\n",
      "Epoch 1/1\n",
      "2s - loss: 0.0022\n",
      "Epoch 1/1\n",
      "2s - loss: 0.0022\n",
      "Epoch 1/1\n",
      "2s - loss: 0.0022\n",
      "Epoch 1/1\n",
      "2s - loss: 0.0022\n",
      "Epoch 1/1\n",
      "2s - loss: 0.0022\n",
      "Epoch 1/1\n",
      "2s - loss: 0.0021\n",
      "Epoch 1/1\n",
      "2s - loss: 0.0021\n",
      "Epoch 1/1\n",
      "2s - loss: 0.0021\n",
      "Epoch 1/1\n",
      "2s - loss: 0.0021\n",
      "Epoch 1/1\n",
      "2s - loss: 0.0021\n",
      "Epoch 1/1\n",
      "2s - loss: 0.0020\n",
      "Epoch 1/1\n",
      "2s - loss: 0.0020\n",
      "Epoch 1/1\n",
      "2s - loss: 0.0020\n",
      "Epoch 1/1\n",
      "2s - loss: 0.0020\n",
      "Epoch 1/1\n",
      "2s - loss: 0.0020\n",
      "Epoch 1/1\n",
      "2s - loss: 0.0020\n",
      "Epoch 1/1\n",
      "2s - loss: 0.0019\n",
      "Epoch 1/1\n",
      "2s - loss: 0.0019\n",
      "Epoch 1/1\n",
      "2s - loss: 0.0019\n",
      "Epoch 1/1\n",
      "2s - loss: 0.0019\n",
      "Epoch 1/1\n",
      "2s - loss: 0.0019\n",
      "Epoch 1/1\n",
      "2s - loss: 0.0018\n",
      "Epoch 1/1\n",
      "2s - loss: 0.0018\n",
      "Epoch 1/1\n",
      "2s - loss: 0.0018\n",
      "Epoch 1/1\n",
      "2s - loss: 0.0018\n",
      "Epoch 1/1\n",
      "2s - loss: 0.0018\n",
      "Epoch 1/1\n",
      "2s - loss: 0.0018\n",
      "Epoch 1/1\n",
      "2s - loss: 0.0017\n",
      "Epoch 1/1\n",
      "2s - loss: 0.0017\n",
      "Epoch 1/1\n",
      "2s - loss: 0.0017\n",
      "Epoch 1/1\n",
      "2s - loss: 0.0017\n",
      "Epoch 1/1\n",
      "2s - loss: 0.0017\n",
      "Epoch 1/1\n",
      "2s - loss: 0.0017\n",
      "Epoch 1/1\n",
      "2s - loss: 0.0017\n",
      "Epoch 1/1\n",
      "2s - loss: 0.0017\n"
     ]
    }
   ],
   "source": [
    "\n",
    "# create and fit the LSTM network\n",
    "look_back=2\n",
    "batch_size = 1\n",
    "model = Sequential()\n",
    "model.add(LSTM(4, batch_input_shape=(batch_size, look_back, 1), stateful=True))\n",
    "model.add(Dense(1))\n",
    "model.compile(loss='mean_squared_error', optimizer='adam')\n",
    "for i in range(100):\n",
    "    model.fit(trainX, tr_Y, nb_epoch=1, batch_size=batch_size, verbose=2, shuffle=False)\n",
    "    model.reset_states()"
   ]
  },
  {
   "cell_type": "code",
   "execution_count": 27,
   "metadata": {
    "collapsed": false
   },
   "outputs": [
    {
     "name": "stdout",
     "output_type": "stream",
     "text": [
      "Epoch 1/1\n",
      "6s - loss: 0.0050\n",
      "Epoch 1/1\n",
      "6s - loss: 0.0086\n",
      "Epoch 1/1\n",
      "6s - loss: 0.0069\n",
      "Epoch 1/1\n",
      "7s - loss: 0.0058\n",
      "Epoch 1/1\n",
      "6s - loss: 0.0051\n",
      "Epoch 1/1\n",
      "9s - loss: 0.0049\n",
      "Epoch 1/1\n",
      "7s - loss: 0.0044\n",
      "Epoch 1/1\n",
      "8s - loss: 0.0068\n",
      "Epoch 1/1\n",
      "7s - loss: 0.0059\n",
      "Epoch 1/1\n",
      "6s - loss: 0.0047\n",
      "Epoch 1/1\n",
      "6s - loss: 0.0042\n",
      "Epoch 1/1\n",
      "7s - loss: 0.0038\n",
      "Epoch 1/1\n",
      "7s - loss: 0.0035\n",
      "Epoch 1/1\n",
      "7s - loss: 0.0032\n",
      "Epoch 1/1\n",
      "7s - loss: 0.0031\n",
      "Epoch 1/1\n",
      "6s - loss: 0.0036\n",
      "Epoch 1/1\n",
      "6s - loss: 0.0047\n",
      "Epoch 1/1\n",
      "6s - loss: 0.0045\n",
      "Epoch 1/1\n",
      "6s - loss: 0.0035\n",
      "Epoch 1/1\n",
      "6s - loss: 0.0036\n",
      "Epoch 1/1\n",
      "6s - loss: 0.0029\n",
      "Epoch 1/1\n",
      "6s - loss: 0.0024\n",
      "Epoch 1/1\n",
      "6s - loss: 0.0025\n",
      "Epoch 1/1\n",
      "7s - loss: 0.0024\n",
      "Epoch 1/1\n",
      "6s - loss: 0.0023\n",
      "Epoch 1/1\n",
      "7s - loss: 0.0022\n",
      "Epoch 1/1\n",
      "6s - loss: 0.0021\n",
      "Epoch 1/1\n",
      "6s - loss: 0.0021\n",
      "Epoch 1/1\n",
      "7s - loss: 0.0020\n",
      "Epoch 1/1\n",
      "6s - loss: 0.0020\n",
      "Epoch 1/1\n",
      "6s - loss: 0.0019\n",
      "Epoch 1/1\n",
      "6s - loss: 0.0019\n",
      "Epoch 1/1\n",
      "6s - loss: 0.0018\n",
      "Epoch 1/1\n",
      "6s - loss: 0.0018\n",
      "Epoch 1/1\n",
      "6s - loss: 0.0018\n",
      "Epoch 1/1\n",
      "6s - loss: 0.0019\n",
      "Epoch 1/1\n",
      "6s - loss: 0.0019\n",
      "Epoch 1/1\n",
      "6s - loss: 0.0020\n",
      "Epoch 1/1\n",
      "6s - loss: 0.0028\n",
      "Epoch 1/1\n",
      "6s - loss: 0.0039\n",
      "Epoch 1/1\n",
      "7s - loss: 0.0037\n",
      "Epoch 1/1\n",
      "6s - loss: 0.0029\n",
      "Epoch 1/1\n",
      "6s - loss: 0.0029\n",
      "Epoch 1/1\n",
      "6s - loss: 0.0027\n",
      "Epoch 1/1\n",
      "7s - loss: 0.0020\n",
      "Epoch 1/1\n",
      "6s - loss: 0.0019\n",
      "Epoch 1/1\n",
      "6s - loss: 0.0014\n",
      "Epoch 1/1\n",
      "6s - loss: 0.0014\n",
      "Epoch 1/1\n",
      "7s - loss: 0.0012\n",
      "Epoch 1/1\n",
      "6s - loss: 0.0012\n",
      "Epoch 1/1\n",
      "6s - loss: 0.0012\n",
      "Epoch 1/1\n",
      "7s - loss: 0.0012\n",
      "Epoch 1/1\n",
      "6s - loss: 0.0011\n",
      "Epoch 1/1\n",
      "6s - loss: 0.0012\n",
      "Epoch 1/1\n",
      "6s - loss: 0.0011\n",
      "Epoch 1/1\n",
      "6s - loss: 0.0013\n",
      "Epoch 1/1\n",
      "7s - loss: 0.0013\n",
      "Epoch 1/1\n",
      "6s - loss: 0.0013\n",
      "Epoch 1/1\n",
      "6s - loss: 0.0014\n",
      "Epoch 1/1\n",
      "7s - loss: 0.0012\n",
      "Epoch 1/1\n",
      "6s - loss: 0.0012\n",
      "Epoch 1/1\n",
      "6s - loss: 0.0012\n",
      "Epoch 1/1\n",
      "6s - loss: 0.0014\n",
      "Epoch 1/1\n",
      "6s - loss: 0.0012\n",
      "Epoch 1/1\n",
      "7s - loss: 0.0013\n",
      "Epoch 1/1\n",
      "6s - loss: 0.0012\n",
      "Epoch 1/1\n",
      "6s - loss: 0.0013\n",
      "Epoch 1/1\n",
      "6s - loss: 0.0011\n",
      "Epoch 1/1\n",
      "6s - loss: 0.0013\n",
      "Epoch 1/1\n",
      "7s - loss: 0.0011\n",
      "Epoch 1/1\n",
      "7s - loss: 0.0013\n",
      "Epoch 1/1\n",
      "7s - loss: 0.0011\n",
      "Epoch 1/1\n",
      "6s - loss: 0.0013\n",
      "Epoch 1/1\n",
      "6s - loss: 0.0011\n",
      "Epoch 1/1\n",
      "6s - loss: 0.0012\n",
      "Epoch 1/1\n",
      "7s - loss: 0.0010\n",
      "Epoch 1/1\n",
      "6s - loss: 0.0012\n",
      "Epoch 1/1\n",
      "6s - loss: 0.0010\n",
      "Epoch 1/1\n",
      "6s - loss: 0.0010\n",
      "Epoch 1/1\n",
      "6s - loss: 9.4657e-04\n",
      "Epoch 1/1\n",
      "6s - loss: 9.9346e-04\n",
      "Epoch 1/1\n",
      "6s - loss: 9.6311e-04\n",
      "Epoch 1/1\n",
      "6s - loss: 0.0011\n",
      "Epoch 1/1\n",
      "6s - loss: 0.0010\n",
      "Epoch 1/1\n",
      "6s - loss: 9.3769e-04\n",
      "Epoch 1/1\n",
      "6s - loss: 0.0012\n",
      "Epoch 1/1\n",
      "6s - loss: 0.0012\n",
      "Epoch 1/1\n",
      "7s - loss: 0.0013\n",
      "Epoch 1/1\n",
      "6s - loss: 0.0013\n",
      "Epoch 1/1\n",
      "7s - loss: 0.0010\n",
      "Epoch 1/1\n",
      "6s - loss: 9.5834e-04\n",
      "Epoch 1/1\n",
      "6s - loss: 9.9989e-04\n",
      "Epoch 1/1\n",
      "6s - loss: 9.3316e-04\n",
      "Epoch 1/1\n",
      "6s - loss: 9.3070e-04\n",
      "Epoch 1/1\n",
      "6s - loss: 0.0010\n",
      "Epoch 1/1\n",
      "6s - loss: 9.7609e-04\n",
      "Epoch 1/1\n",
      "6s - loss: 0.0011\n",
      "Epoch 1/1\n",
      "7s - loss: 9.8981e-04\n",
      "Epoch 1/1\n",
      "7s - loss: 0.0011\n",
      "Epoch 1/1\n",
      "7s - loss: 9.9476e-04\n"
     ]
    }
   ],
   "source": [
    "\n",
    "# create and fit the LSTM network Stack batches between memory\n",
    "look_back=2\n",
    "batch_size = 1\n",
    "model = Sequential()\n",
    "model.add(LSTM(8, batch_input_shape=(batch_size, look_back, 1), stateful=True,return_sequences=True))\n",
    "model.add(LSTM(8, batch_input_shape=(batch_size, look_back, 1), stateful=True))\n",
    "model.add(Dense(1))\n",
    "model.compile(loss='mean_squared_error', optimizer='adam')\n",
    "for i in range(100):\n",
    "    model.fit(trainX, tr_Y, nb_epoch=1, batch_size=batch_size, verbose=2, shuffle=False)\n",
    "    model.reset_states()"
   ]
  },
  {
   "cell_type": "code",
   "execution_count": 325,
   "metadata": {
    "collapsed": true
   },
   "outputs": [],
   "source": [
    "THEANO_FLAGS='floatX=float32,device=gpu0,lib.cnmem=1'"
   ]
  },
  {
   "cell_type": "code",
   "execution_count": 324,
   "metadata": {
    "collapsed": false
   },
   "outputs": [],
   "source": [
    "#import theano; print(theano.config)"
   ]
  },
  {
   "cell_type": "code",
   "execution_count": 28,
   "metadata": {
    "collapsed": false
   },
   "outputs": [
    {
     "name": "stdout",
     "output_type": "stream",
     "text": [
      "Train Score: 0.04 RMSE\n",
      "Test Score: 0.21 RMSE\n"
     ]
    }
   ],
   "source": [
    "\n",
    "# make predictions\n",
    "trainScore=0.0\n",
    "testScore=0.0\n",
    "trainPredict = model.predict(trainX, batch_size=batch_size)\n",
    "model.reset_states()\n",
    "testPredict = model.predict(testX, batch_size=batch_size)\n",
    "\n",
    "# invert predictions\n",
    "trainPredict = scaler.inverse_transform(trainPredict)\n",
    "tr_Y = scaler.inverse_transform(tr_Y)\n",
    "testPredict = scaler.inverse_transform(testPredict)\n",
    "tst_Y = scaler.inverse_transform(tst_Y)\n",
    "# calculate root mean squared error\n",
    "#print len(trainPredict)\n",
    "#print len(trainY)\n",
    "#s= numpy.subtract(trainPredict,tr_Y)**2\n",
    "#print numpy.sum(numpy.sqrt(s))/len(tr_Y)\n",
    "\n",
    "trainScore = math.sqrt(mean_squared_error(tr_Y, trainPredict))\n",
    "print('Train Score: %.2f RMSE' % (trainScore))\n",
    "testScore = math.sqrt(mean_squared_error(tst_Y, testPredict))\n",
    "print('Test Score: %.2f RMSE' % (testScore))"
   ]
  },
  {
   "cell_type": "code",
   "execution_count": 29,
   "metadata": {
    "collapsed": false
   },
   "outputs": [
    {
     "data": {
      "image/png": "[encoded data removed]",
      "text/plain": [
       "<matplotlib.figure.Figure at 0x18532940>"
      ]
     },
     "metadata": {},
     "output_type": "display_data"
    }
   ],
   "source": [
    "# shift train predictions for plotting\n",
    "trainPredictPlot = numpy.empty_like(dataset)\n",
    "trainPredictPlot[:, :] = numpy.nan\n",
    "trainPredictPlot[look_back:len(trainPredict)+look_back, :] = trainPredict\n",
    "# shift test predictions for plotting\n",
    "testPredictPlot = numpy.empty_like(dataset)\n",
    "testPredictPlot[:, :] = numpy.nan\n",
    "testPredictPlot[len(trainPredict)+(look_back*2)+1:len(dataset)-1, :] = testPredict\n",
    "# plot baseline and predictions\n",
    "plt.title(\"Increasing the window size\")\n",
    "plt.plot(scaler.inverse_transform(dataset),label=\"Inverse of data transform\")\n",
    "plt.plot(trainPredictPlot,label=\"Predicted Train\")\n",
    "plt.plot(testPredictPlot,label=\"Predicted Test\")\n",
    "plt.legend(loc=0)\n",
    "plt.show()"
   ]
  },
  {
   "cell_type": "code",
   "execution_count": null,
   "metadata": {
    "collapsed": true
   },
   "outputs": [],
   "source": []
  },
  {
   "cell_type": "code",
   "execution_count": null,
   "metadata": {
    "collapsed": true
   },
   "outputs": [],
   "source": []
  }
 ],
 "metadata": {
  "anaconda-cloud": {},
  "kernelspec": {
   "display_name": "Python [default]",
   "language": "python",
   "name": "python2"
  },
  "language_info": {
   "codemirror_mode": {
    "name": "ipython",
    "version": 2
   },
   "file_extension": ".py",
   "mimetype": "text/x-python",
   "name": "python",
   "nbconvert_exporter": "python",
   "pygments_lexer": "ipython2",
   "version": "2.7.12"
  }
 },
 "nbformat": 4,
 "nbformat_minor": 1
}
