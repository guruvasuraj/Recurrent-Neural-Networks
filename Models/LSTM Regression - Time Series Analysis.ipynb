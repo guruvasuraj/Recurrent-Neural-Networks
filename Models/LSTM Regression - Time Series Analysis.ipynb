{
 "cells": [
  {
   "cell_type": "code",
   "execution_count": 315,
   "metadata": {
    "collapsed": false
   },
   "outputs": [
    {
     "data": {
      "text/plain": [
       "u'0.18.1'"
      ]
     },
     "execution_count": 315,
     "metadata": {},
     "output_type": "execute_result"
    }
   ],
   "source": [
    "\n",
    "import numpy \n",
    "import matplotlib.pyplot as plt\n",
    "import pandas\n",
    "import math\n",
    "from keras.models import Sequential\n",
    "from keras.layers import Dense\n",
    "from keras.layers import LSTM\n",
    "from sklearn.preprocessing import MinMaxScaler\n",
    "from sklearn.metrics import mean_squared_error\n",
    "%matplotlib inline\n",
    "pandas.__version__"
   ]
  },
  {
   "cell_type": "code",
   "execution_count": 316,
   "metadata": {
    "collapsed": true
   },
   "outputs": [],
   "source": [
    "numpy.random.seed(7)"
   ]
  },
  {
   "cell_type": "code",
   "execution_count": 317,
   "metadata": {
    "collapsed": false
   },
   "outputs": [
    {
     "name": "stdout",
     "output_type": "stream",
     "text": [
      "   International airline passengers: monthly totals in thousands. Jan 49 ? Dec 60\n",
      "0                                                112                             \n",
      "1                                                118                             \n",
      "2                                                132                             \n",
      "3                                                129                             \n",
      "4                                                121                             \n"
     ]
    },
    {
     "data": {
      "image/png": "[encoded data removed]",
      "text/plain": [
       "<matplotlib.figure.Figure at 0x39ce0748>"
      ]
     },
     "metadata": {},
     "output_type": "display_data"
    }
   ],
   "source": [
    "# load the dataset\n",
    "dataframe = pandas.read_csv('international-airline-passengers.csv', usecols=[1], engine='python', skipfooter=3)\n",
    "print dataframe.head()\n",
    "dataset = dataframe.values\n",
    "dataset = dataset.astype('float32')\n",
    "plt.plot(dataset)\n",
    "plt.title(\"International Passengers Trend\")\n",
    "plt.show()"
   ]
  },
  {
   "cell_type": "code",
   "execution_count": 318,
   "metadata": {
    "collapsed": false
   },
   "outputs": [
    {
     "name": "stdout",
     "output_type": "stream",
     "text": [
      "Length of Training data is 96 and Test data is 48\n"
     ]
    }
   ],
   "source": [
    "\n",
    "# normalize the dataset\n",
    "scaler = MinMaxScaler(feature_range=(0, 1))\n",
    "dataset = scaler.fit_transform(dataset)\n",
    "\n",
    "\n",
    "# split into train and test sets\n",
    "train_size = int(len(dataset) * 0.67)\n",
    "test_size = len(dataset) - train_size\n",
    "train, test = dataset[0:train_size,:], dataset[train_size:len(dataset),:]\n",
    "print\"Length of Training data is %d and Test data is %d\" %(len(train), len(test))\n"
   ]
  },
  {
   "cell_type": "code",
   "execution_count": 337,
   "metadata": {
    "collapsed": true
   },
   "outputs": [],
   "source": [
    "'''\n",
    "Create the dataset by making x(t) as X and x(t+1) as Y\n",
    "\n",
    "'''\n",
    "def create_dataset(data_set,look_back):\n",
    "    X=[]\n",
    "    Y=[]\n",
    "    for i in range(len(data_set)-look_back-1):\n",
    "        curr = data_set[i]\n",
    "        X.append(curr)\n",
    "        nxt = data_set[i+look_back]\n",
    "        Y.append(nxt)\n",
    "    #print numpy.hstack((numpy.asanyarray(X),numpy.asanyarray(Y)))\n",
    "    return numpy.array(X),numpy.array(Y)\n",
    "    "
   ]
  },
  {
   "cell_type": "code",
   "execution_count": 338,
   "metadata": {
    "collapsed": false
   },
   "outputs": [
    {
     "name": "stdout",
     "output_type": "stream",
     "text": [
      "94\n"
     ]
    }
   ],
   "source": [
    "tr_X,tr_Y=create_dataset(train,look_back=1)\n",
    "print len(tr_X)"
   ]
  },
  {
   "cell_type": "code",
   "execution_count": 339,
   "metadata": {
    "collapsed": false
   },
   "outputs": [
    {
     "name": "stdout",
     "output_type": "stream",
     "text": [
      "<type 'numpy.ndarray'>\n"
     ]
    }
   ],
   "source": [
    "tst_X,tst_Y=create_dataset(test,look_back=1)\n",
    "print type(tst_X)"
   ]
  },
  {
   "cell_type": "code",
   "execution_count": 340,
   "metadata": {
    "collapsed": false
   },
   "outputs": [],
   "source": [
    "# reshape input to be [samples, time steps, features]\n",
    "trainX = numpy.reshape(tr_X, (tr_X.shape[0], 1, tr_X.shape[1]))\n",
    "testX = numpy.reshape(tst_X, (tst_X.shape[0], 1, tst_X.shape[1]))"
   ]
  },
  {
   "cell_type": "code",
   "execution_count": 323,
   "metadata": {
    "collapsed": false
   },
   "outputs": [
    {
     "name": "stdout",
     "output_type": "stream",
     "text": [
      "Epoch 1/100\n",
      "94/94 [==============================] - 4s - loss: 0.0410     \n",
      "Epoch 2/100\n",
      "94/94 [==============================] - 4s - loss: 0.0197     \n",
      "Epoch 3/100\n",
      "94/94 [==============================] - 4s - loss: 0.0126     \n",
      "Epoch 4/100\n",
      "94/94 [==============================] - 4s - loss: 0.0109     \n",
      "Epoch 5/100\n",
      "94/94 [==============================] - 4s - loss: 0.0099     \n",
      "Epoch 6/100\n",
      "94/94 [==============================] - 4s - loss: 0.0090     \n",
      "Epoch 7/100\n",
      "94/94 [==============================] - 4s - loss: 0.0081     \n",
      "Epoch 8/100\n",
      "94/94 [==============================] - 4s - loss: 0.0072     \n",
      "Epoch 9/100\n",
      "94/94 [==============================] - 4s - loss: 0.0063     \n",
      "Epoch 10/100\n",
      "94/94 [==============================] - 4s - loss: 0.0055     \n",
      "Epoch 11/100\n",
      "94/94 [==============================] - 4s - loss: 0.0048     \n",
      "Epoch 12/100\n",
      "94/94 [==============================] - 4s - loss: 0.0042     \n",
      "Epoch 13/100\n",
      "94/94 [==============================] - 4s - loss: 0.0036     \n",
      "Epoch 14/100\n",
      "94/94 [==============================] - 4s - loss: 0.0032     \n",
      "Epoch 15/100\n",
      "94/94 [==============================] - 4s - loss: 0.0028     \n",
      "Epoch 16/100\n",
      "94/94 [==============================] - 4s - loss: 0.0026     \n",
      "Epoch 17/100\n",
      "94/94 [==============================] - 4s - loss: 0.0024     \n",
      "Epoch 18/100\n",
      "94/94 [==============================] - 4s - loss: 0.0022     \n",
      "Epoch 19/100\n",
      "94/94 [==============================] - 4s - loss: 0.0021     \n",
      "Epoch 20/100\n",
      "94/94 [==============================] - 4s - loss: 0.0021     \n",
      "Epoch 21/100\n",
      "94/94 [==============================] - 4s - loss: 0.0021     \n",
      "Epoch 22/100\n",
      "94/94 [==============================] - 4s - loss: 0.0020     \n",
      "Epoch 23/100\n",
      "94/94 [==============================] - 4s - loss: 0.0020     \n",
      "Epoch 24/100\n",
      "94/94 [==============================] - 4s - loss: 0.0020     \n",
      "Epoch 25/100\n",
      "94/94 [==============================] - 4s - loss: 0.0020     \n",
      "Epoch 26/100\n",
      "94/94 [==============================] - 4s - loss: 0.0020     \n",
      "Epoch 27/100\n",
      "94/94 [==============================] - 4s - loss: 0.0020     \n",
      "Epoch 28/100\n",
      "94/94 [==============================] - 5s - loss: 0.0020     \n",
      "Epoch 29/100\n",
      "94/94 [==============================] - 4s - loss: 0.0020     \n",
      "Epoch 30/100\n",
      "94/94 [==============================] - 4s - loss: 0.0020     \n",
      "Epoch 31/100\n",
      "94/94 [==============================] - 4s - loss: 0.0020     \n",
      "Epoch 32/100\n",
      "94/94 [==============================] - 4s - loss: 0.0020     \n",
      "Epoch 33/100\n",
      "94/94 [==============================] - 4s - loss: 0.0020     \n",
      "Epoch 34/100\n",
      "94/94 [==============================] - 4s - loss: 0.0020     \n",
      "Epoch 35/100\n",
      "94/94 [==============================] - 4s - loss: 0.0020     \n",
      "Epoch 36/100\n",
      "94/94 [==============================] - 4s - loss: 0.0020     \n",
      "Epoch 37/100\n",
      "94/94 [==============================] - 4s - loss: 0.0020     \n",
      "Epoch 38/100\n",
      "94/94 [==============================] - 4s - loss: 0.0020     \n",
      "Epoch 39/100\n",
      "94/94 [==============================] - 4s - loss: 0.0020     \n",
      "Epoch 40/100\n",
      "94/94 [==============================] - 4s - loss: 0.0020     \n",
      "Epoch 41/100\n",
      "94/94 [==============================] - 4s - loss: 0.0020     \n",
      "Epoch 42/100\n",
      "94/94 [==============================] - 4s - loss: 0.0020     \n",
      "Epoch 43/100\n",
      "94/94 [==============================] - 4s - loss: 0.0020     \n",
      "Epoch 44/100\n",
      "94/94 [==============================] - 4s - loss: 0.0020     \n",
      "Epoch 45/100\n",
      "94/94 [==============================] - 4s - loss: 0.0020     \n",
      "Epoch 46/100\n",
      "94/94 [==============================] - 4s - loss: 0.0020     \n",
      "Epoch 47/100\n",
      "94/94 [==============================] - 4s - loss: 0.0020     \n",
      "Epoch 48/100\n",
      "94/94 [==============================] - 4s - loss: 0.0020     \n",
      "Epoch 49/100\n",
      "94/94 [==============================] - 5s - loss: 0.0020     \n",
      "Epoch 50/100\n",
      "94/94 [==============================] - 4s - loss: 0.0020     \n",
      "Epoch 51/100\n",
      "94/94 [==============================] - 4s - loss: 0.0019     \n",
      "Epoch 52/100\n",
      "94/94 [==============================] - 4s - loss: 0.0020     \n",
      "Epoch 53/100\n",
      "94/94 [==============================] - 4s - loss: 0.0020     \n",
      "Epoch 54/100\n",
      "94/94 [==============================] - 4s - loss: 0.0020     \n",
      "Epoch 55/100\n",
      "94/94 [==============================] - 4s - loss: 0.0020     \n",
      "Epoch 56/100\n",
      "94/94 [==============================] - 4s - loss: 0.0020     \n",
      "Epoch 57/100\n",
      "94/94 [==============================] - 4s - loss: 0.0020     \n",
      "Epoch 58/100\n",
      "94/94 [==============================] - 4s - loss: 0.0020     \n",
      "Epoch 59/100\n",
      "94/94 [==============================] - 4s - loss: 0.0020     \n",
      "Epoch 60/100\n",
      "94/94 [==============================] - 4s - loss: 0.0020     \n",
      "Epoch 61/100\n",
      "94/94 [==============================] - 4s - loss: 0.0021     \n",
      "Epoch 62/100\n",
      "94/94 [==============================] - 4s - loss: 0.0021     \n",
      "Epoch 63/100\n",
      "94/94 [==============================] - 4s - loss: 0.0020     \n",
      "Epoch 64/100\n",
      "94/94 [==============================] - 4s - loss: 0.0021     \n",
      "Epoch 65/100\n",
      "94/94 [==============================] - 4s - loss: 0.0020     \n",
      "Epoch 66/100\n",
      "94/94 [==============================] - 4s - loss: 0.0019     \n",
      "Epoch 67/100\n",
      "94/94 [==============================] - 4s - loss: 0.0020     \n",
      "Epoch 68/100\n",
      "94/94 [==============================] - 4s - loss: 0.0020     \n",
      "Epoch 69/100\n",
      "94/94 [==============================] - 4s - loss: 0.0020     \n",
      "Epoch 70/100\n",
      "94/94 [==============================] - 4s - loss: 0.0020     \n",
      "Epoch 71/100\n",
      "94/94 [==============================] - 4s - loss: 0.0020     \n",
      "Epoch 72/100\n",
      "94/94 [==============================] - 4s - loss: 0.0019     \n",
      "Epoch 73/100\n",
      "94/94 [==============================] - 4s - loss: 0.0020     \n",
      "Epoch 74/100\n",
      "94/94 [==============================] - 4s - loss: 0.0020     \n",
      "Epoch 75/100\n",
      "94/94 [==============================] - 4s - loss: 0.0020     \n",
      "Epoch 76/100\n",
      "94/94 [==============================] - 4s - loss: 0.0020     \n",
      "Epoch 77/100\n",
      "94/94 [==============================] - 4s - loss: 0.0020     \n",
      "Epoch 78/100\n",
      "94/94 [==============================] - 4s - loss: 0.0020     \n",
      "Epoch 79/100\n",
      "94/94 [==============================] - 4s - loss: 0.0021     \n",
      "Epoch 80/100\n",
      "94/94 [==============================] - 4s - loss: 0.0020     \n",
      "Epoch 81/100\n",
      "94/94 [==============================] - 4s - loss: 0.0020     \n",
      "Epoch 82/100\n",
      "94/94 [==============================] - 4s - loss: 0.0020     \n",
      "Epoch 83/100\n",
      "94/94 [==============================] - 4s - loss: 0.0020     \n",
      "Epoch 84/100\n",
      "94/94 [==============================] - 4s - loss: 0.0020     \n",
      "Epoch 85/100\n",
      "94/94 [==============================] - 4s - loss: 0.0020     \n",
      "Epoch 86/100\n",
      "94/94 [==============================] - 4s - loss: 0.0020     \n",
      "Epoch 87/100\n",
      "94/94 [==============================] - 4s - loss: 0.0021     \n",
      "Epoch 88/100\n",
      "94/94 [==============================] - 4s - loss: 0.0020     \n",
      "Epoch 89/100\n",
      "94/94 [==============================] - 4s - loss: 0.0020     \n",
      "Epoch 90/100\n",
      "94/94 [==============================] - 4s - loss: 0.0020     \n",
      "Epoch 91/100\n",
      "94/94 [==============================] - 4s - loss: 0.0020     \n",
      "Epoch 92/100\n",
      "94/94 [==============================] - 6s - loss: 0.0020     \n",
      "Epoch 93/100\n",
      "94/94 [==============================] - 4s - loss: 0.0020     \n",
      "Epoch 94/100\n",
      "94/94 [==============================] - 4s - loss: 0.0020     \n",
      "Epoch 95/100\n",
      "94/94 [==============================] - 5s - loss: 0.0020     \n",
      "Epoch 96/100\n",
      "94/94 [==============================] - 4s - loss: 0.0020     \n",
      "Epoch 97/100\n",
      "94/94 [==============================] - 4s - loss: 0.0020     \n",
      "Epoch 98/100\n",
      "94/94 [==============================] - 4s - loss: 0.0020     \n",
      "Epoch 99/100\n",
      "94/94 [==============================] - 4s - loss: 0.0020     \n",
      "Epoch 100/100\n",
      "94/94 [==============================] - 4s - loss: 0.0020     \n"
     ]
    },
    {
     "data": {
      "text/plain": [
       "<keras.callbacks.History at 0x3ed5e438>"
      ]
     },
     "execution_count": 323,
     "metadata": {},
     "output_type": "execute_result"
    }
   ],
   "source": [
    "\n",
    "# create and fit the LSTM network\n",
    "look_back=1\n",
    "model = Sequential()\n",
    "model.add(LSTM(16, input_dim=look_back))\n",
    "model.add(Dense(1))\n",
    "model.compile(loss='mean_squared_error', optimizer='adam')\n",
    "model.fit(trainX, tr_Y, nb_epoch=100, batch_size=2, verbose=1)"
   ]
  },
  {
   "cell_type": "code",
   "execution_count": 324,
   "metadata": {
    "collapsed": false
   },
   "outputs": [],
   "source": [
    "#import theano; print(theano.config)"
   ]
  },
  {
   "cell_type": "code",
   "execution_count": 325,
   "metadata": {
    "collapsed": true
   },
   "outputs": [],
   "source": [
    "THEANO_FLAGS='floatX=float32,device=gpu0,lib.cnmem=1'"
   ]
  },
  {
   "cell_type": "code",
   "execution_count": 341,
   "metadata": {
    "collapsed": false
   },
   "outputs": [
    {
     "name": "stdout",
     "output_type": "stream",
     "text": [
      "[[ 121.16712189]\n",
      " [ 126.73699188]\n",
      " [ 139.79350281]\n",
      " [ 136.98902893]\n",
      " [ 129.5279541 ]\n",
      " [ 142.60137939]\n",
      " [ 154.80500793]\n",
      " [ 154.80500793]\n",
      " [ 143.53808594]\n",
      " [ 127.66687775]\n",
      " [ 113.76708984]\n",
      " [ 126.73699188]\n",
      " [ 123.95001221]\n",
      " [ 134.18806458]\n",
      " [ 148.2268219 ]\n",
      " [ 142.60137939]\n",
      " [ 133.25521851]\n",
      " [ 155.74601746]\n",
      " [ 175.56843567]\n",
      " [ 175.56843567]\n",
      " [ 164.2277832 ]\n",
      " [ 140.72909546]\n",
      " [ 123.02191925]\n",
      " [ 147.28837585]\n",
      " [ 151.98388672]\n",
      " [ 156.68730164]\n",
      " [ 183.14533997]\n",
      " [ 168.94903564]\n",
      " [ 177.46156311]\n",
      " [ 183.14533997]\n",
      " [ 203.07778931]\n",
      " [ 203.07778931]\n",
      " [ 188.83493042]\n",
      " [ 168.00431824]\n",
      " [ 152.9239502 ]\n",
      " [ 171.78462219]\n",
      " [ 176.51489258]\n",
      " [ 185.04125977]\n",
      " [ 197.3780365 ]\n",
      " [ 185.98947144]\n",
      " [ 187.88630676]\n",
      " [ 221.13749695]\n",
      " [ 232.5413208 ]\n",
      " [ 243.93411255]\n",
      " [ 212.58201599]\n",
      " [ 195.47880554]\n",
      " [ 177.46156311]\n",
      " [ 198.32780457]\n",
      " [ 200.22756958]\n",
      " [ 200.22756958]\n",
      " [ 238.23957825]\n",
      " [ 237.2901001 ]\n",
      " [ 231.59132385]\n",
      " [ 244.88275146]\n",
      " [ 264.76699829]\n",
      " [ 272.31814575]\n",
      " [ 239.18894958]\n",
      " [ 214.48321533]\n",
      " [ 185.04125977]\n",
      " [ 204.97827148]\n",
      " [ 207.82937622]\n",
      " [ 192.63072205]\n",
      " [ 237.2901001 ]\n",
      " [ 229.69110107]\n",
      " [ 236.34051514]\n",
      " [ 264.76699829]\n",
      " [ 300.4720459 ]\n",
      " [ 292.05648804]\n",
      " [ 260.04013062]\n",
      " [ 231.59132385]\n",
      " [ 206.87898254]\n",
      " [ 231.59132385]\n",
      " [ 243.93411255]\n",
      " [ 235.39083862]\n",
      " [ 267.60043335]\n",
      " [ 269.48825073]\n",
      " [ 270.43179321]\n",
      " [ 312.57373047]\n",
      " [ 357.48675537]\n",
      " [ 342.04379272]\n",
      " [ 309.78707886]\n",
      " [ 274.20346069]\n",
      " [ 239.18894958]\n",
      " [ 277.9708252 ]\n",
      " [ 283.61340332]\n",
      " [ 277.02938843]\n",
      " [ 314.42944336]\n",
      " [ 310.71636963]\n",
      " [ 315.3565979 ]\n",
      " [ 366.49365234]\n",
      " [ 401.01705933]\n",
      " [ 394.01791382]\n",
      " [ 349.33102417]\n",
      " [ 304.20272827]]\n",
      "[[ 118.        ]\n",
      " [ 132.        ]\n",
      " [ 129.        ]\n",
      " [ 121.        ]\n",
      " [ 135.        ]\n",
      " [ 148.        ]\n",
      " [ 148.        ]\n",
      " [ 136.        ]\n",
      " [ 119.        ]\n",
      " [ 104.        ]\n",
      " [ 118.        ]\n",
      " [ 115.        ]\n",
      " [ 126.        ]\n",
      " [ 141.        ]\n",
      " [ 135.        ]\n",
      " [ 125.        ]\n",
      " [ 149.        ]\n",
      " [ 170.        ]\n",
      " [ 170.        ]\n",
      " [ 158.        ]\n",
      " [ 133.        ]\n",
      " [ 114.        ]\n",
      " [ 140.        ]\n",
      " [ 145.        ]\n",
      " [ 150.        ]\n",
      " [ 178.        ]\n",
      " [ 163.        ]\n",
      " [ 172.        ]\n",
      " [ 178.        ]\n",
      " [ 199.        ]\n",
      " [ 199.        ]\n",
      " [ 184.        ]\n",
      " [ 162.        ]\n",
      " [ 146.        ]\n",
      " [ 166.        ]\n",
      " [ 171.        ]\n",
      " [ 180.        ]\n",
      " [ 193.        ]\n",
      " [ 181.        ]\n",
      " [ 183.        ]\n",
      " [ 218.        ]\n",
      " [ 230.        ]\n",
      " [ 242.        ]\n",
      " [ 209.        ]\n",
      " [ 191.        ]\n",
      " [ 172.        ]\n",
      " [ 194.        ]\n",
      " [ 196.        ]\n",
      " [ 196.        ]\n",
      " [ 236.        ]\n",
      " [ 235.        ]\n",
      " [ 229.        ]\n",
      " [ 243.        ]\n",
      " [ 264.        ]\n",
      " [ 272.        ]\n",
      " [ 237.        ]\n",
      " [ 211.        ]\n",
      " [ 180.        ]\n",
      " [ 201.        ]\n",
      " [ 204.        ]\n",
      " [ 188.        ]\n",
      " [ 235.        ]\n",
      " [ 227.        ]\n",
      " [ 234.        ]\n",
      " [ 264.        ]\n",
      " [ 302.        ]\n",
      " [ 293.        ]\n",
      " [ 259.        ]\n",
      " [ 229.        ]\n",
      " [ 203.        ]\n",
      " [ 229.        ]\n",
      " [ 242.        ]\n",
      " [ 233.        ]\n",
      " [ 267.        ]\n",
      " [ 269.        ]\n",
      " [ 270.        ]\n",
      " [ 315.        ]\n",
      " [ 363.99996948]\n",
      " [ 347.        ]\n",
      " [ 312.        ]\n",
      " [ 274.        ]\n",
      " [ 237.        ]\n",
      " [ 278.        ]\n",
      " [ 284.        ]\n",
      " [ 277.        ]\n",
      " [ 317.        ]\n",
      " [ 313.        ]\n",
      " [ 318.        ]\n",
      " [ 373.99996948]\n",
      " [ 412.99996948]\n",
      " [ 404.99996948]\n",
      " [ 355.        ]\n",
      " [ 306.        ]\n",
      " [ 271.        ]]\n",
      "Train Score: 22.72 RMSE\n",
      "Test Score: 48.65 RMSE\n"
     ]
    }
   ],
   "source": [
    "\n",
    "# make predictions\n",
    "trainScore=0.0\n",
    "testScore=0.0\n",
    "trainPredict = model.predict(trainX)\n",
    "\n",
    "testPredict = model.predict(testX)\n",
    "# invert predictions\n",
    "trainPredict = scaler.inverse_transform(trainPredict)\n",
    "tr_Y = scaler.inverse_transform(tr_Y)\n",
    "testPredict = scaler.inverse_transform(testPredict)\n",
    "tst_Y = scaler.inverse_transform(tst_Y)\n",
    "# calculate root mean squared error\n",
    "#print len(trainPredict)\n",
    "#print len(trainY)\n",
    "#s= numpy.subtract(trainPredict,tr_Y)**2\n",
    "#print numpy.sum(numpy.sqrt(s))/len(tr_Y)\n",
    "\n",
    "trainScore = math.sqrt(mean_squared_error(tr_Y, trainPredict))\n",
    "print('Train Score: %.2f RMSE' % (trainScore))\n",
    "testScore = math.sqrt(mean_squared_error(tst_Y, testPredict))\n",
    "print('Test Score: %.2f RMSE' % (testScore))"
   ]
  },
  {
   "cell_type": "code",
   "execution_count": 351,
   "metadata": {
    "collapsed": false
   },
   "outputs": [
    {
     "data": {
      "image/png": "[encoded data removed]",
      "text/plain": [
       "<matplotlib.figure.Figure at 0x407b2a20>"
      ]
     },
     "metadata": {},
     "output_type": "display_data"
    }
   ],
   "source": [
    "# shift train predictions for plotting\n",
    "trainPredictPlot = numpy.empty_like(dataset)\n",
    "trainPredictPlot[:, :] = numpy.nan\n",
    "trainPredictPlot[look_back:len(trainPredict)+look_back, :] = trainPredict\n",
    "# shift test predictions for plotting\n",
    "testPredictPlot = numpy.empty_like(dataset)\n",
    "testPredictPlot[:, :] = numpy.nan\n",
    "testPredictPlot[len(trainPredict)+(look_back*2)+1:len(dataset)-1, :] = testPredict\n",
    "# plot baseline and predictions\n",
    "plt.plot(scaler.inverse_transform(dataset),label=\"Inverse of data transform\")\n",
    "plt.plot(trainPredictPlot,label=\"Predicted Train\")\n",
    "plt.plot(testPredictPlot,label=\"Predicted Test\")\n",
    "plt.legend(loc=0)\n",
    "plt.show()"
   ]
  },
  {
   "cell_type": "code",
   "execution_count": null,
   "metadata": {
    "collapsed": true
   },
   "outputs": [],
   "source": []
  },
  {
   "cell_type": "code",
   "execution_count": null,
   "metadata": {
    "collapsed": true
   },
   "outputs": [],
   "source": []
  }
 ],
 "metadata": {
  "kernelspec": {
   "display_name": "Python [default]",
   "language": "python",
   "name": "python2"
  },
  "language_info": {
   "codemirror_mode": {
    "name": "ipython",
    "version": 2
   },
   "file_extension": ".py",
   "mimetype": "text/x-python",
   "name": "python",
   "nbconvert_exporter": "python",
   "pygments_lexer": "ipython2",
   "version": "2.7.12"
  }
 },
 "nbformat": 4,
 "nbformat_minor": 1
}
